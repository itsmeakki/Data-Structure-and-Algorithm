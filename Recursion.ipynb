{
 "cells": [
  {
   "cell_type": "markdown",
   "id": "5f485915",
   "metadata": {},
   "source": [
    "# Last Index Of Number Question"
   ]
  },
  {
   "cell_type": "markdown",
   "id": "54265058",
   "metadata": {},
   "source": [
    "Given an array of length N and an integer x, you need to find and return the last index of integer x present in the array.<br> Return -1 if it is not present in the array.<br>\n",
    "Last index means - if x is present multiple times in the array, return the index at which x comes last in the array.<br>\n",
    "You should start traversing your array from 0, not from (N - 1).<br>\n",
    "Do this recursively. Indexing in the array starts from 0.<br>"
   ]
  },
  {
   "cell_type": "code",
   "execution_count": 1,
   "id": "56e3abe9",
   "metadata": {},
   "outputs": [
    {
     "name": "stdout",
     "output_type": "stream",
     "text": [
      "4\n",
      "9 8 10 8\n",
      "8\n",
      "3\n"
     ]
    }
   ],
   "source": [
    "def lastIndex(arr, x, si):\n",
    "    l = len(arr)\n",
    "    if si == l:\n",
    "        return -1\n",
    "   \n",
    "    smallerlistoutput = lastIndex(arr,x,si+1)\n",
    "    if smallerlistoutput != -1:\n",
    "        return smallerlistoutput\n",
    "    else:\n",
    "        if arr[si] == x:\n",
    "            return si\n",
    "        else:\n",
    "            return -1\n",
    "    \n",
    "    \n",
    "# Main\n",
    "from sys import setrecursionlimit\n",
    "setrecursionlimit(11000)\n",
    "n=int(input())\n",
    "arr=list(int(i) for i in input().strip().split(' '))\n",
    "x=int(input())\n",
    "print(lastIndex(arr, x, 0))\n"
   ]
  },
  {
   "cell_type": "markdown",
   "id": "09f4ea1d",
   "metadata": {},
   "source": [
    "# Remove X"
   ]
  },
  {
   "cell_type": "markdown",
   "id": "5a27d41f",
   "metadata": {},
   "source": [
    "Given a string, compute recursively a new string where all 'x' chars have been removed."
   ]
  },
  {
   "cell_type": "code",
   "execution_count": 2,
   "id": "9c594ba2",
   "metadata": {},
   "outputs": [
    {
     "name": "stdout",
     "output_type": "stream",
     "text": [
      "xaxb\n",
      "ab\n"
     ]
    }
   ],
   "source": [
    "def removeX(string):\n",
    "    if len(string) == 0:\n",
    "        return string\n",
    "    \n",
    "    smalloutput = removeX(string[1:])\n",
    "    if string[0] == 'x':\n",
    "        return smalloutput\n",
    "    else:\n",
    "        return string[0] + smalloutput\n",
    "\n",
    "# Main\n",
    "string = input()\n",
    "print(removeX(string))\n"
   ]
  },
  {
   "cell_type": "markdown",
   "id": "260368d8",
   "metadata": {},
   "source": [
    "# Remove Duplicates Recursively"
   ]
  },
  {
   "cell_type": "markdown",
   "id": "28e87b2b",
   "metadata": {},
   "source": [
    "Given a string S, remove consecutive duplicates from it recursively."
   ]
  },
  {
   "cell_type": "code",
   "execution_count": 3,
   "id": "db04a96b",
   "metadata": {},
   "outputs": [
    {
     "name": "stdout",
     "output_type": "stream",
     "text": [
      "aabccba\n",
      "abcba\n"
     ]
    }
   ],
   "source": [
    "def removeConsecutiveDuplicates(string):\n",
    "    \n",
    "    l = len(string)\n",
    "    if l == 0 or l == 1:\n",
    "        return string\n",
    "    if string[0] == string[1]:\n",
    "        smalloutput = removeConsecutiveDuplicates(string[1:])\n",
    "        return smalloutput\n",
    "    else:\n",
    "        smalloutput = removeConsecutiveDuplicates(string[1:])\n",
    "        return  string[0]+smalloutput\n",
    "\n",
    "# Main\n",
    "string = input().strip()\n",
    "print(removeConsecutiveDuplicates(string))\n"
   ]
  },
  {
   "cell_type": "markdown",
   "id": "9c5238d8",
   "metadata": {},
   "source": [
    "# Tower Of Hanoi - Problem"
   ]
  },
  {
   "cell_type": "markdown",
   "id": "1f7597a6",
   "metadata": {},
   "source": [
    "Tower of Hanoi is a mathematical puzzle where we have three rods and n disks. The objective of the puzzle is to move all <br>\n",
    "disks from source rod to destination rod using third rod (say auxiliary). The rules are :<br>\n",
    "1) Only one disk can be moved at a time.<br>\n",
    "2) A disk can be moved only if it is on the top of a rod.<br>\n",
    "3) No disk can be placed on the top of a smaller disk.<br>\n",
    "Print the steps required to move n disks from source rod to destination rod.<br>\n",
    "Source Rod is named as 'a', auxiliary rod as 'b' and destination rod as 'c'.<br>"
   ]
  },
  {
   "cell_type": "code",
   "execution_count": 4,
   "id": "a3d9d0c1",
   "metadata": {},
   "outputs": [
    {
     "name": "stdout",
     "output_type": "stream",
     "text": [
      "3\n",
      "a c\n",
      "a b\n",
      "c b\n",
      "a c\n",
      "b a\n",
      "b c\n",
      "a c\n"
     ]
    }
   ],
   "source": [
    "def towerofhanoi(n, source, aux, dest):\n",
    "    if n == 0:\n",
    "        return\n",
    "    if n == 1:\n",
    "        print(source, dest)\n",
    "        return\n",
    "    towerofhanoi(n-1,source,dest,aux)\n",
    "    print(source,dest)\n",
    "    towerofhanoi(n-1,aux,source,dest)\n",
    "    \n",
    "\n",
    "n=int(input())\n",
    "towerofhanoi(n, 'a', 'b', 'c')\n"
   ]
  },
  {
   "cell_type": "markdown",
   "id": "d52a6a86",
   "metadata": {},
   "source": [
    "# Geometric Sum"
   ]
  },
  {
   "cell_type": "markdown",
   "id": "bcd4bee8",
   "metadata": {},
   "source": [
    "Given k, find the geometric sum i.e.\n",
    "1 + 1/2 + 1/4 + 1/8 + ... + 1/(2^k) "
   ]
  },
  {
   "cell_type": "code",
   "execution_count": 5,
   "id": "cef0d28c",
   "metadata": {},
   "outputs": [
    {
     "name": "stdout",
     "output_type": "stream",
     "text": [
      "4\n",
      "1.93750\n"
     ]
    }
   ],
   "source": [
    "## Read input as specified in the question.\n",
    "## Print output as specified in the question.\n",
    "def findSum(k):\n",
    "    if k == 0:\n",
    "        return 1\n",
    "    sumoutput = findSum(k-1)\n",
    "    a = sumoutput + (1/(2**k))\n",
    "    return float(a)\n",
    "\n",
    "k = int(input())\n",
    "x = findSum(k)\n",
    "print('%.5f'%x)"
   ]
  },
  {
   "cell_type": "markdown",
   "id": "9e1e76ab",
   "metadata": {},
   "source": [
    "# Check Palindrome (recursive)"
   ]
  },
  {
   "cell_type": "markdown",
   "id": "581e5c65",
   "metadata": {},
   "source": [
    "Check whether a given String S is a palindrome using recursion. Return true or false."
   ]
  },
  {
   "cell_type": "code",
   "execution_count": 6,
   "id": "aa613b08",
   "metadata": {},
   "outputs": [
    {
     "name": "stdout",
     "output_type": "stream",
     "text": [
      "racecar\n",
      "true\n"
     ]
    }
   ],
   "source": [
    "## Read input as specified in the question.\n",
    "## Print output as specified in the question.\n",
    "def palindrome(s,si,ei):\n",
    "    \n",
    "    if ei-si == 1 or ei-si == 0:\n",
    "        return True\n",
    "        \n",
    "    \n",
    "    if s[si]==s[ei]:\n",
    "        return palindrome(s,si+1,ei-1)    \n",
    "    else:\n",
    "        return False\n",
    "s=input()\n",
    "ans = palindrome(s,0,len(s)-1)\n",
    "if ans:\n",
    "    print('true')\n",
    "else:\n",
    "    print('false')\n",
    "    \n"
   ]
  },
  {
   "cell_type": "markdown",
   "id": "bac4665a",
   "metadata": {},
   "source": [
    "# Sum of digits (recursive)"
   ]
  },
  {
   "cell_type": "markdown",
   "id": "27d4bae0",
   "metadata": {},
   "source": [
    "Write a recursive function that returns the sum of the digits of a given integer."
   ]
  },
  {
   "cell_type": "code",
   "execution_count": 7,
   "id": "05bf4859",
   "metadata": {},
   "outputs": [
    {
     "name": "stdout",
     "output_type": "stream",
     "text": [
      "12345\n",
      "15\n"
     ]
    }
   ],
   "source": [
    "## Read input as specified in the question.\n",
    "## Print output as specified in the question.\n",
    "def SumofDigits(n):\n",
    "    if n == 0:\n",
    "        return 0\n",
    "    sum = 0\n",
    "    n1 = n%10\n",
    "    n = n//10\n",
    "    sumoutput = SumofDigits(n)\n",
    "    return sum + sumoutput + n1\n",
    "\n",
    "n = int(input())\n",
    "print(SumofDigits(n))"
   ]
  },
  {
   "cell_type": "markdown",
   "id": "a7bb212f",
   "metadata": {},
   "source": [
    "# Count Zeros"
   ]
  },
  {
   "cell_type": "markdown",
   "id": "b3510004",
   "metadata": {},
   "source": [
    "Given an integer N, count and return the number of zeros that are present in the given integer using recursion"
   ]
  },
  {
   "cell_type": "code",
   "execution_count": 8,
   "id": "27bb4c62",
   "metadata": {},
   "outputs": [
    {
     "name": "stdout",
     "output_type": "stream",
     "text": [
      "00010204\n",
      "2\n"
     ]
    }
   ],
   "source": [
    "## Read input as specified in the question.\n",
    "## Print output as specified in the question.\n",
    "def CountZeros(n):\n",
    "    if n<10:\n",
    "        if n == 0:\n",
    "            return 1\n",
    "        return 0\n",
    "    \n",
    "    sum = 0\n",
    "    if n % 10 == 0:\n",
    "        sum = sum + 1\n",
    "    n1 = n // 10\n",
    "    smalloutput = sum + CountZeros(n1)\n",
    "    return smalloutput  \n",
    "\n",
    "\n",
    "n = int(input())\n",
    "x = CountZeros(n)\n",
    "print(x)"
   ]
  },
  {
   "cell_type": "markdown",
   "id": "8bf2f43b",
   "metadata": {},
   "source": [
    "Even though \"00010204\" has 5 zeros, the output would still be 2 because when you convert it to an integer, it becomes 10204."
   ]
  },
  {
   "cell_type": "markdown",
   "id": "4e99067f",
   "metadata": {},
   "source": [
    "# String to Integer"
   ]
  },
  {
   "cell_type": "markdown",
   "id": "51abb912",
   "metadata": {},
   "source": [
    "Write a recursive function to convert a given string into the number it represents. That is input will be a numeric string <br>\n",
    "that contains only numbers, you need to convert the string into corresponding integer and return the answer.<br>"
   ]
  },
  {
   "cell_type": "code",
   "execution_count": 9,
   "id": "34b459c2",
   "metadata": {},
   "outputs": [
    {
     "name": "stdout",
     "output_type": "stream",
     "text": [
      "00001231\n",
      "1231\n"
     ]
    }
   ],
   "source": [
    "## Read input as specified in the question.\n",
    "## Print output as specified in the question.\n",
    "def StoI(string,start,end):\n",
    "    n = end - start \n",
    "    a = int(string[start])\n",
    "    if n == 0 :\n",
    "        \n",
    "        a * 10**(n) \n",
    "        return a * 10**(n) \n",
    "    smalleroutput = StoI(string,start+1,end)    \n",
    "    return int(string[start])*10**(n) +  smalleroutput \n",
    "\n",
    "\n",
    "string = input()\n",
    "x = StoI(string,0,len(string)-1)\n",
    "print(x)"
   ]
  },
  {
   "cell_type": "markdown",
   "id": "6fb714e0",
   "metadata": {},
   "source": [
    "# Pair Star"
   ]
  },
  {
   "cell_type": "markdown",
   "id": "a7b21ade",
   "metadata": {},
   "source": [
    "Given a string S, compute recursively a new string where identical chars that are adjacent in the original string are <br>\n",
    "separated from each other by a \"*\".<br>"
   ]
  },
  {
   "cell_type": "code",
   "execution_count": 10,
   "id": "e1e5cfff",
   "metadata": {},
   "outputs": [
    {
     "name": "stdout",
     "output_type": "stream",
     "text": [
      "hello\n",
      "hel*lo\n"
     ]
    }
   ],
   "source": [
    "## Read input as specified in the question.\n",
    "## Print output as specified in the question.\n",
    "def PairStart(string,start,end):\n",
    "    if end - start == 0:\n",
    "        return string[start]\n",
    "    smalloutput = PairStart(string,start+1,end)\n",
    "    if string[start] == string[start+1]:\n",
    "        return  string[start:start+1] + '*' + smalloutput\n",
    "    else:\n",
    "        return string[start:start+1]  + smalloutput\n",
    "\n",
    "\n",
    "\n",
    "string = input()\n",
    "x = PairStart(string,0,len(string)-1)\n",
    "print(x)"
   ]
  },
  {
   "cell_type": "markdown",
   "id": "036d2489",
   "metadata": {},
   "source": [
    "# Check AB"
   ]
  },
  {
   "cell_type": "markdown",
   "id": "2e2bc5d4",
   "metadata": {},
   "source": [
    "Suppose you have a string, S, made up of only 'a's and 'b's. Write a recursive function that checks if the string was <br>\n",
    "generated using the following rules:<br>\n",
    "a. The string begins with an 'a'<br>\n",
    "b. Each 'a' is followed by nothing or an 'a' or \"bb\"<br>\n",
    "c. Each \"bb\" is followed by nothing or an 'a'<br>\n",
    "If all the rules are followed by the given string, return true otherwise return false.<br>"
   ]
  },
  {
   "cell_type": "code",
   "execution_count": 11,
   "id": "b11abee7",
   "metadata": {},
   "outputs": [
    {
     "name": "stdout",
     "output_type": "stream",
     "text": [
      "abababa\n",
      "false\n"
     ]
    }
   ],
   "source": [
    "## Read input as specified in the question.\n",
    "## Print output as specified in the question.\n",
    "def CheckAB(str):\n",
    "    if len(str)==0:\n",
    "        return True\n",
    "    if str[0]==\"a\":\n",
    "        if len(str[1:])>1 and str[1:3]=='bb':\n",
    "            return CheckAB(str[3:])\n",
    "        else:\n",
    "            return CheckAB(str[1:])\n",
    "    else:\n",
    "        return False\n",
    "\n",
    "s = input()\n",
    "if CheckAB(s) is True:\n",
    "    print('true')\n",
    "else:\n",
    "    print('false')"
   ]
  },
  {
   "cell_type": "markdown",
   "id": "e6d18fb2",
   "metadata": {},
   "source": [
    "# Staircase"
   ]
  },
  {
   "cell_type": "markdown",
   "id": "0a242fcc",
   "metadata": {},
   "source": [
    "A child is running up a staircase with N steps, and can hop either 1 step, 2 steps or 3 steps at a time. Implement a <br>\n",
    "method to count how many possible ways the child can run up to the stairs. You need to return number of possible ways W.<br>"
   ]
  },
  {
   "cell_type": "code",
   "execution_count": 12,
   "id": "0457e2b4",
   "metadata": {},
   "outputs": [
    {
     "name": "stdout",
     "output_type": "stream",
     "text": [
      "4\n",
      "7\n"
     ]
    }
   ],
   "source": [
    "## Read input as specified in the question.\n",
    "## Print output as specified in the question.\n",
    "def Staircase(n):\n",
    "    if n == 0 or n == 1: \n",
    "        return 1\n",
    "    elif n == 2:\n",
    "        return 2\n",
    "    return Staircase(n-1) + Staircase(n-2) + Staircase(n-3)\n",
    "\n",
    "n = int(input())\n",
    "x = Staircase(n)\n",
    "print(x)"
   ]
  },
  {
   "cell_type": "markdown",
   "id": "dc9df217",
   "metadata": {},
   "source": [
    "# Return Subsequences"
   ]
  },
  {
   "cell_type": "markdown",
   "id": "dc457b87",
   "metadata": {},
   "source": [
    "Given a string (let's say of length n), return all the subsequences of the given string.<br>\n",
    "Subsequences contain all the strings of length varying from 0 to n. But the order of characters should remain the same as<br> \n",
    "in the input string.<br>\n",
    "Note: The order of subsequences are not important.<br>"
   ]
  },
  {
   "cell_type": "code",
   "execution_count": 13,
   "id": "e688ce0f",
   "metadata": {},
   "outputs": [
    {
     "name": "stdout",
     "output_type": "stream",
     "text": [
      "abc\n",
      " \n",
      "c \n",
      "b \n",
      "bc \n",
      "a \n",
      "ac \n",
      "ab \n",
      "abc \n"
     ]
    }
   ],
   "source": [
    "def subsequences(string):\n",
    "\n",
    "    if len(string) == 0:\n",
    "        output = []\n",
    "        output.append(\" \")\n",
    "        return output\n",
    "    \n",
    "    smallerString = string[1:]\n",
    "    smallerOutput = subsequences(smallerString)\n",
    "    \n",
    "    output = []\n",
    "    for sub in smallerOutput:\n",
    "        output.append(sub)\n",
    "        \n",
    "    for sub in smallerOutput:\n",
    "        subs_with_zeroth_char = string[0] + sub\n",
    "        output.append(subs_with_zeroth_char)\n",
    "    \n",
    "    return output\n",
    "\n",
    "string = input()\n",
    "ans = subsequences(string)\n",
    "for ele in ans:\n",
    "    print(ele)"
   ]
  },
  {
   "cell_type": "markdown",
   "id": "084d5a89",
   "metadata": {},
   "source": [
    "# Return Keypad"
   ]
  },
  {
   "cell_type": "markdown",
   "id": "64f36bf0",
   "metadata": {},
   "source": [
    "Given an integer n, using phone keypad find out and return all the possible strings that can be made using digits of <br>\n",
    "input n.<br>\n",
    "Note : The order of strings are not important.<br>\n",
    "Input Format :<br>\n",
    "Integer n<br>"
   ]
  },
  {
   "cell_type": "code",
   "execution_count": 14,
   "id": "0e6163e2",
   "metadata": {},
   "outputs": [
    {
     "name": "stdout",
     "output_type": "stream",
     "text": [
      "23\n",
      "ad\n",
      "ae\n",
      "af\n",
      "bd\n",
      "be\n",
      "bf\n",
      "cd\n",
      "ce\n",
      "cf\n"
     ]
    }
   ],
   "source": [
    "def getString(d):\n",
    "    if d == 2:\n",
    "        return \"abc\"\n",
    "    if d == 3:\n",
    "        return \"def\"\n",
    "    if d == 4:\n",
    "        return \"ghi\"\n",
    "    if d == 5:\n",
    "        return \"jkl\"\n",
    "    if d == 6:\n",
    "        return \"mno\"\n",
    "    if d == 7:\n",
    "        return \"pqrs\"\n",
    "    if d == 8:\n",
    "        return \"tuv\"\n",
    "    if d == 9:\n",
    "        return \"wxyz\"\n",
    "    return \" \"   \n",
    "    \n",
    "\n",
    "def keypad(input):\n",
    "    if input == 0:\n",
    "        output = []\n",
    "        output.append(\"\")\n",
    "        return output\n",
    "    \n",
    "    smallerInput = input//10\n",
    "    remainder = input%10    \n",
    "    \n",
    "    smallerOutput = keypad(smallerInput)\n",
    "    text = getString(remainder)\n",
    "        \n",
    "    output = []\n",
    "    for s in smallerOutput:\n",
    "        for c in text:\n",
    "            option = s + c\n",
    "            output.append(option)\n",
    "            \n",
    "    return output\n",
    "\n",
    "input = int(input())\n",
    "ans = keypad(input)\n",
    "for s in ans:\n",
    "    print(s)"
   ]
  },
  {
   "cell_type": "markdown",
   "id": "b706c405",
   "metadata": {},
   "source": [
    "# Print Subsequences"
   ]
  },
  {
   "cell_type": "markdown",
   "id": "06ac2d2f",
   "metadata": {},
   "source": [
    "Given a string (lets say of length n), print all the subsequences of the given string.<br>\n",
    "Subsequences contain all the strings of length varying from 0 to n. But the order of characters should remain same as in <br>\n",
    "the input string.<br>\n",
    "Note :<br>\n",
    "The order of subsequences are not important. Print every subsequence in new line.<br>"
   ]
  },
  {
   "cell_type": "code",
   "execution_count": 2,
   "id": "fef08863",
   "metadata": {},
   "outputs": [
    {
     "name": "stdout",
     "output_type": "stream",
     "text": [
      "abc\n",
      "\n",
      "c\n",
      "b\n",
      "bc\n",
      "a\n",
      "ac\n",
      "ab\n",
      "abc\n"
     ]
    }
   ],
   "source": [
    "def printSub(str, output):\n",
    "    if len(str) == 0:\n",
    "        print(output)\n",
    "        return\n",
    "    \n",
    "    # Not including 0th char\n",
    "    printSub(str[1:], output)\n",
    "    \n",
    "    # Including 0th char\n",
    "    printSub(str[1:], output+str[0])\n",
    "\n",
    "str = input()\n",
    "printSub(str, \"\")"
   ]
  },
  {
   "cell_type": "markdown",
   "id": "03b3a596",
   "metadata": {},
   "source": [
    "# Return subsets sum to K"
   ]
  },
  {
   "cell_type": "markdown",
   "id": "137d5e1c",
   "metadata": {},
   "source": [
    "Given an array A of size n and an integer K, return all subsets of A which sum to K.<br>\n",
    "Subsets are of length varying from 0 to n, that contain elements of the array. But the order of elements should <br>\n",
    "remain same as in the input array.<br>\n",
    "Note : The order of subsets are not important.<br>\n",
    "Input format :<br>\n",
    "Line 1 : Integer n, Size of input array<br>\n",
    "Line 2 : Array elements separated by space<br>\n",
    "Line 3 : K <br>"
   ]
  },
  {
   "cell_type": "code",
   "execution_count": 3,
   "id": "30054187",
   "metadata": {},
   "outputs": [
    {
     "name": "stdout",
     "output_type": "stream",
     "text": [
      "9\n",
      "5 12 3 17 1 18 15 3 17 \n",
      "6\n",
      "5 1 \n",
      "3 3 \n"
     ]
    }
   ],
   "source": [
    "import sys\n",
    "sys.setrecursionlimit(10 ** 8)\n",
    "\n",
    "\n",
    "def subs(str):\n",
    "    if len(str) == 0:\n",
    "        output = []\n",
    "        output.append(\" \")\n",
    "        return output\n",
    "    \n",
    "    smallerString = str[1:]\n",
    "    smallerOutput = subs(smallerString)\n",
    "    \n",
    "    output = []\n",
    "    for sub in smallerOutput:\n",
    "        output.append(sub)\n",
    "        \n",
    "    for sub in smallerOutput:\n",
    "        subs_with_zeroth_char = str[0] + sub\n",
    "        output.append(subs_with_zeroth_char)\n",
    "    \n",
    "    return output\n",
    "    \n",
    "def subsetsSumK(arr, k) :\n",
    "    #base cases\n",
    "    n=len(arr)\n",
    "    if n==1:\n",
    "        if arr[0]==k:\n",
    "            output=[[k]]\n",
    "            return output\n",
    "        else:\n",
    "            output=[]\n",
    "            return output\n",
    "#recursive callsss\n",
    "    out1=subsetsSumK(arr[:-1],k)\n",
    "    out2=subsetsSumK(arr[:-1],k-arr[-1])\n",
    "    for lst in out2:\n",
    "        lst.append(arr[-1])\n",
    "    if arr[-1]==k:\n",
    "        out2.append([k])\n",
    "    return out1+out2\n",
    "\n",
    "#taking input\n",
    "def takeInput() :\n",
    "    n = int(input().strip())\n",
    "\n",
    "    if n == 0 :\n",
    "        return list(), 0\n",
    "\n",
    "    arr = [int(element) for element in list(input().strip().split(\" \"))]\n",
    "    return arr, n\n",
    "\n",
    "\n",
    "#printing the list of lists\n",
    "def printListOfList(liOfLi) :\n",
    "    for li in liOfLi :\n",
    "        for elem in li :\n",
    "            print(elem, end = \" \")\n",
    "        print()\n",
    "\n",
    "#main\n",
    "arr, n = takeInput()\n",
    "\n",
    "if n != 0 :\n",
    "    k = int(input().strip())\n",
    "    liOfLi = subsetsSumK(arr, k)\n",
    "\n",
    "    printListOfList(liOfLi)\n",
    "\n"
   ]
  },
  {
   "cell_type": "markdown",
   "id": "886a21b4",
   "metadata": {},
   "source": [
    "# Return subset of an array"
   ]
  },
  {
   "cell_type": "markdown",
   "id": "42bbca76",
   "metadata": {},
   "source": [
    "Given an integer array (of length n), find and return all the subsets of input array.<br>\n",
    "Subsets are of length varying from 0 to n, that contain elements of the array. But the order of elements should remain <br>\n",
    "same as in the input array.<br>\n",
    "Note : The order of subsets are not important.<br>\n",
    "Input format :<br>\n",
    "\n",
    "Line 1 : Size of array<br>\n",
    "\n",
    "Line 2 : Array elements (separated by space)<br>"
   ]
  },
  {
   "cell_type": "code",
   "execution_count": 4,
   "id": "7b33c2c7",
   "metadata": {},
   "outputs": [
    {
     "name": "stdout",
     "output_type": "stream",
     "text": [
      "3\n",
      "15 20 12\n",
      "\n",
      "12 \n",
      "20 \n",
      "20 12 \n",
      "15 \n",
      "15 12 \n",
      "15 20 \n",
      "15 20 12 \n"
     ]
    }
   ],
   "source": [
    "def subs(l):\n",
    "    if l == []:\n",
    "        return [[]]\n",
    "\n",
    "    x = subs(l[1:])\n",
    "\n",
    "    return x + [[l[0]] + y for y in x]\n",
    "\n",
    "n = int(input())\n",
    "l = [int(element) for element in list(input().strip().split(\" \"))]\n",
    "\n",
    "x = subs(l)\n",
    "for i in x:\n",
    "    for j in i:\n",
    "        print(j, end = \" \")\n",
    "    print()"
   ]
  },
  {
   "cell_type": "markdown",
   "id": "8b0ee2f7",
   "metadata": {},
   "source": [
    "# Return Permutations of a String"
   ]
  },
  {
   "cell_type": "markdown",
   "id": "0c0640aa",
   "metadata": {},
   "source": [
    "Given a string, find and return all the possible permutations of the input string.<br>\n",
    "Note : The order of permutations are not important."
   ]
  },
  {
   "cell_type": "code",
   "execution_count": 5,
   "id": "7eb67723",
   "metadata": {},
   "outputs": [
    {
     "name": "stdout",
     "output_type": "stream",
     "text": [
      "abc\n",
      "cab\n",
      "acb\n",
      "abc\n",
      "cba\n",
      "bca\n",
      "bac\n"
     ]
    }
   ],
   "source": [
    "def permutations(s):\n",
    " \n",
    "    # create a list to store (partial) permutations\n",
    "    partial = []\n",
    " \n",
    "    # initialize the list with the first character of the string\n",
    "    partial.append(s[0])\n",
    " \n",
    "    # do for every character of the specified string\n",
    "    for i in range(1, len(s)):\n",
    " \n",
    "        # consider previously constructed partial permutation one by one\n",
    " \n",
    "        # iterate backward\n",
    "        for j in reversed(range(len(partial))):\n",
    " \n",
    "            # remove the current partial permutation from the list\n",
    "            curr = partial.pop(j)\n",
    " \n",
    "            # Insert the next character of the specified string into all\n",
    "            # possible positions of current partial permutation.\n",
    "            # Then insert each of these newly constructed strings into the list\n",
    " \n",
    "            for k in range(len(curr) + 1):\n",
    "                partial.append(curr[:k] + s[i] + curr[k:])\n",
    " \n",
    "    for ele in partial:\n",
    "        print(ele)\n",
    "\n",
    "s = input()\n",
    "ans = permutations(s)"
   ]
  },
  {
   "cell_type": "markdown",
   "id": "8b342b9e",
   "metadata": {},
   "source": [
    "# Print Subsets of Array"
   ]
  },
  {
   "cell_type": "markdown",
   "id": "8f4848f3",
   "metadata": {},
   "source": [
    "Given an integer array (of length n), find and print all the subsets of input array.<br>\n",
    "Subsets are of length varying from 0 to n, that contain elements of the array. But the order of elements should remain <br>\n",
    "same as in the input array.<br>\n",
    "Note : The order of subsets are not important. Just print the subsets in different lines.<br>\n",
    "Input format :<br>\n",
    "Line 1 : Integer n, Size of array<br>\n",
    "Line 2 : Array elements (separated by space)<br>"
   ]
  },
  {
   "cell_type": "code",
   "execution_count": 6,
   "id": "23bf63a4",
   "metadata": {},
   "outputs": [
    {
     "name": "stdout",
     "output_type": "stream",
     "text": [
      "3\n",
      "15 20 12\n",
      "\n",
      "12 \n",
      "20 \n",
      "20 12 \n",
      "15 \n",
      "15 12 \n",
      "15 20 \n",
      "15 20 12 \n"
     ]
    }
   ],
   "source": [
    "def subs(l):\n",
    "    if l == []:\n",
    "        return [[]]\n",
    "\n",
    "    x = subs(l[1:])\n",
    "\n",
    "    return x + [[l[0]] + y for y in x]\n",
    "\n",
    "n = int(input())\n",
    "l = [int(element) for element in list(input().strip().split(\" \"))]\n",
    "\n",
    "x = subs(l)\n",
    "for i in x:\n",
    "    for j in i:\n",
    "        print(j, end = \" \")\n",
    "    print()\n",
    "    "
   ]
  },
  {
   "cell_type": "markdown",
   "id": "2bddc5f2",
   "metadata": {},
   "source": [
    "# Print Subset Sum to K"
   ]
  },
  {
   "cell_type": "markdown",
   "id": "18da22f0",
   "metadata": {},
   "source": [
    "Given an array A and an integer K, print all subsets of A which sum to K.<br>\n",
    "Subsets are of length varying from 0 to n, that contain elements of the array. But the order of elements should remain <br>\n",
    "same as in the input array.<br>\n",
    "Note : The order of subsets are not important. Just print them in different lines.<br>\n",
    "Input format :<br>\n",
    "Line 1 : Size of input array<br>\n",
    "Line 2 : Array elements separated by space<br>\n",
    "Line 3 : K <br>"
   ]
  },
  {
   "cell_type": "code",
   "execution_count": 7,
   "id": "e1f0ea7f",
   "metadata": {},
   "outputs": [
    {
     "name": "stdout",
     "output_type": "stream",
     "text": [
      "9\n",
      "5 12 3 17 1 18 15 3 17 \n",
      "6\n",
      "5 1 \n",
      "3 3 \n"
     ]
    }
   ],
   "source": [
    "## Read input as specified in the question.\n",
    "## Print output as specified in the question.\n",
    "import sys\n",
    "sys.setrecursionlimit(10 ** 8)\n",
    "\n",
    "\n",
    "def subs(str):\n",
    "    if len(str) == 0:\n",
    "        output = []\n",
    "        output.append(\" \")\n",
    "        return output\n",
    "    \n",
    "    smallerString = str[1:]\n",
    "    smallerOutput = subs(smallerString)\n",
    "    \n",
    "    output = []\n",
    "    for sub in smallerOutput:\n",
    "        output.append(sub)\n",
    "        \n",
    "    for sub in smallerOutput:\n",
    "        subs_with_zeroth_char = str[0] + sub\n",
    "        output.append(subs_with_zeroth_char)\n",
    "    \n",
    "    return output\n",
    "    \n",
    "def subsetsSumK(arr, k) :\n",
    "    #base cases\n",
    "    n=len(arr)\n",
    "    if n==1:\n",
    "        if arr[0]==k:\n",
    "            output=[[k]]\n",
    "            return output\n",
    "        else:\n",
    "            output=[]\n",
    "            return output\n",
    "#recursive callsss\n",
    "    out1=subsetsSumK(arr[:-1],k)\n",
    "    out2=subsetsSumK(arr[:-1],k-arr[-1])\n",
    "    for lst in out2:\n",
    "        lst.append(arr[-1])\n",
    "    if arr[-1]==k:\n",
    "        out2.append([k])\n",
    "    return out1+out2\n",
    "\n",
    "#taking input\n",
    "def takeInput() :\n",
    "    n = int(input().strip())\n",
    "\n",
    "    if n == 0 :\n",
    "        return list(), 0\n",
    "\n",
    "    arr = [int(element) for element in list(input().strip().split(\" \"))]\n",
    "    return arr, n\n",
    "\n",
    "\n",
    "#printing the list of lists\n",
    "def printListOfList(liOfLi) :\n",
    "    for li in liOfLi :\n",
    "        for elem in li :\n",
    "            print(elem, end = \" \")\n",
    "        print()\n",
    "\n",
    "#main\n",
    "arr, n = takeInput()\n",
    "\n",
    "if n != 0 :\n",
    "    k = int(input().strip())\n",
    "    liOfLi = subsetsSumK(arr, k)\n",
    "\n",
    "    printListOfList(liOfLi)\n"
   ]
  },
  {
   "cell_type": "markdown",
   "id": "41f5642b",
   "metadata": {},
   "source": [
    "# Print Permutations of a String"
   ]
  },
  {
   "cell_type": "markdown",
   "id": "9c88f802",
   "metadata": {},
   "source": [
    "Given a string, find and print all the possible permutations of the input string.<br>\n",
    "Note : The order of permutations are not important. Just print them in different lines.<br>"
   ]
  },
  {
   "cell_type": "code",
   "execution_count": 8,
   "id": "9ae4c1f5",
   "metadata": {},
   "outputs": [
    {
     "name": "stdout",
     "output_type": "stream",
     "text": [
      "abc\n",
      "cab\n",
      "acb\n",
      "abc\n",
      "cba\n",
      "bca\n",
      "bac\n"
     ]
    }
   ],
   "source": [
    "def permutations(s):\n",
    " \n",
    "    # create a list to store (partial) permutations\n",
    "    partial = []\n",
    " \n",
    "    # initialize the list with the first character of the string\n",
    "    partial.append(s[0])\n",
    " \n",
    "    # do for every character of the specified string\n",
    "    for i in range(1, len(s)):\n",
    " \n",
    "        # consider previously constructed partial permutation one by one\n",
    " \n",
    "        # iterate backward\n",
    "        for j in reversed(range(len(partial))):\n",
    " \n",
    "            # remove the current partial permutation from the list\n",
    "            curr = partial.pop(j)\n",
    " \n",
    "            # Insert the next character of the specified string into all\n",
    "            # possible positions of current partial permutation.\n",
    "            # Then insert each of these newly constructed strings into the list\n",
    " \n",
    "            for k in range(len(curr) + 1):\n",
    "                partial.append(curr[:k] + s[i] + curr[k:])\n",
    " \n",
    "    for ele in partial:\n",
    "        print(ele)\n",
    "\n",
    "s = input()\n",
    "ans = permutations(s)"
   ]
  },
  {
   "cell_type": "code",
   "execution_count": null,
   "id": "ed8c2119",
   "metadata": {},
   "outputs": [],
   "source": []
  }
 ],
 "metadata": {
  "kernelspec": {
   "display_name": "Python 3",
   "language": "python",
   "name": "python3"
  },
  "language_info": {
   "codemirror_mode": {
    "name": "ipython",
    "version": 3
   },
   "file_extension": ".py",
   "mimetype": "text/x-python",
   "name": "python",
   "nbconvert_exporter": "python",
   "pygments_lexer": "ipython3",
   "version": "3.8.8"
  }
 },
 "nbformat": 4,
 "nbformat_minor": 5
}
