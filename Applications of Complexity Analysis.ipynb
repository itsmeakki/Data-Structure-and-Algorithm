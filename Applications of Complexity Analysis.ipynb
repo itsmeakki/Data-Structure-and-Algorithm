{
 "cells": [
  {
   "cell_type": "markdown",
   "id": "72e10c32",
   "metadata": {},
   "source": [
    "# Find the Unique Element"
   ]
  },
  {
   "cell_type": "markdown",
   "id": "d69fa423",
   "metadata": {},
   "source": [
    "You have been given an integer array/list(ARR) of size N. Where N is equal to [2M + 1].<br>\n",
    "Now, in the given array/list, 'M' numbers are present twice and one number is present only once.<br>\n",
    "You need to find and return that number which is unique in the array/list.<br>\n",
    " Note:<br>\n",
    "Unique element is always present in the array/list according to the given condition.<br>"
   ]
  },
  {
   "cell_type": "code",
   "execution_count": 3,
   "id": "53f9110a",
   "metadata": {},
   "outputs": [
    {
     "name": "stdout",
     "output_type": "stream",
     "text": [
      "7\n",
      "2 3 1 6 3 6 2\n",
      "1\n"
     ]
    }
   ],
   "source": [
    "from sys import stdin\n",
    "\n",
    "def findUnique(arr, n) :\n",
    "    a=0\n",
    "    for i in range(n):\n",
    "        a=a^arr[i]\n",
    "    return a\n",
    "\n",
    "#taking input using fast I/O method\n",
    "def takeInput() :\n",
    "    n = int(stdin.readline().strip())\n",
    "    if n == 0 :\n",
    "        return list(), 0\n",
    "\n",
    "    arr = list(map(int, stdin.readline().strip().split(\" \")))\n",
    "    return arr, n\n",
    "\n",
    "\n",
    "def printList(arr, n) : \n",
    "    for i in range(n) :\n",
    "        print(arr[i], end = \" \")\n",
    "    print()\n",
    "\n",
    "n = int(input())\n",
    "arr = list(map(int,input().split()))\n",
    "\n",
    "print(findUnique(arr, n))"
   ]
  },
  {
   "cell_type": "markdown",
   "id": "a55828c9",
   "metadata": {},
   "source": [
    "# Duplicate in array"
   ]
  },
  {
   "cell_type": "markdown",
   "id": "39424992",
   "metadata": {},
   "source": [
    "You have been given an integer array/list(ARR) of size N which contains numbers from 0 to (N - 2). Each number is present <br>\n",
    "at least once. That is, if N = 5, the array/list constitutes values ranging from 0 to 3, and among these, there is a single <br>integer value that is present twice. You need to find and return that duplicate number present in the array.<br>\n",
    "Note :<br>\n",
    "Duplicate number is always present in the given array/list.<br>"
   ]
  },
  {
   "cell_type": "code",
   "execution_count": 5,
   "id": "a843aef6",
   "metadata": {},
   "outputs": [
    {
     "name": "stdout",
     "output_type": "stream",
     "text": [
      "9\n",
      "0 7 2 5 4 7 1 3 6\n",
      "7\n"
     ]
    }
   ],
   "source": [
    "def findDuplicate(arr, n) :\n",
    "    \n",
    "    arr.sort()\n",
    "    l = len(arr)\n",
    "    i = 0\n",
    "    while i < l-1:\n",
    "        if arr[i] == arr[i+1]:\n",
    "            return arr[i]\n",
    "        else:\n",
    "            i = i+1\n",
    "            \n",
    "    return arr\n",
    "\n",
    "n = int(input())\n",
    "arr = list(map(int,input().split()))\n",
    "print(findDuplicate(arr, n))"
   ]
  },
  {
   "cell_type": "markdown",
   "id": "3412a71d",
   "metadata": {},
   "source": [
    "# Pair sum in array"
   ]
  },
  {
   "cell_type": "markdown",
   "id": "a17ba2e2",
   "metadata": {},
   "source": [
    "You have been given an integer array/list(ARR) and a number 'num'. Find and return the total number of pairs in the <br>\n",
    "array/list which sum to 'num'.<br>\n",
    "Note:<br>\n",
    "Given array/list can contain duplicate elements. <br>"
   ]
  },
  {
   "cell_type": "code",
   "execution_count": 6,
   "id": "218312df",
   "metadata": {},
   "outputs": [
    {
     "name": "stdout",
     "output_type": "stream",
     "text": [
      "9\n",
      "1 3 6 2 5 4 3 2 4\n",
      "7\n",
      "7\n"
     ]
    }
   ],
   "source": [
    "from sys import stdin\n",
    "\n",
    "def pairSum(arr, n, num) :\n",
    "    m = [0] * 10000\n",
    "    \n",
    "    # store counts of all elements in map m\n",
    "    \n",
    "    for i in range(n):\n",
    "        m[arr[i]] += 1\n",
    "        \n",
    "    twice_count = 0\n",
    "    \n",
    "    # Iterate through each element and increment\n",
    "    # the count (Notice that every pair is\n",
    "    # counted twice)\n",
    "    \n",
    "    for i in range(n):\n",
    "        \n",
    "        twice_count += m[num- arr[i]]\n",
    "        # if (arr[i], arr[i]) pair satisfies the\n",
    "        # condition, then we need to ensure that\n",
    "        # the count is  decreased by one such\n",
    "        # that the (arr[i], arr[i]) pair is not\n",
    "        # considered\n",
    "        if num - arr[i] == arr[i]:\n",
    "            twice_count -= 1\n",
    "            \n",
    "    return int(twice_count / 2)\n",
    "\n",
    "n = int(input())\n",
    "arr = list(map(int,input().split()))\n",
    "num = int(input())\n",
    "print(pairSum(arr, n, num))"
   ]
  },
  {
   "cell_type": "markdown",
   "id": "33e6f5f5",
   "metadata": {},
   "source": [
    "# Triplet sum"
   ]
  },
  {
   "cell_type": "markdown",
   "id": "d14bf24a",
   "metadata": {},
   "source": [
    "You have been given a random integer array/list(ARR) and a number X. Find and return the triplet(s) in the array/list <br>\n",
    "which sum to X.<br>\n",
    "Note :<br>\n",
    "Given array/list can contain duplicate elements.<br>"
   ]
  },
  {
   "cell_type": "code",
   "execution_count": 7,
   "id": "814cc4b2",
   "metadata": {},
   "outputs": [
    {
     "name": "stdout",
     "output_type": "stream",
     "text": [
      "7\n",
      "1 2 3 4 5 6 7 \n",
      "12\n",
      "5\n"
     ]
    }
   ],
   "source": [
    "from sys import stdin\n",
    "def tripletSum(arr, n, num) :\n",
    "    arr.sort()\n",
    "    numTriplets = 0;\n",
    "    for i in range(n) :\n",
    "        pairSumFor = num - arr[i]\n",
    "        numPairs = pairSum(arr, (i + 1), (n - 1), pairSumFor)\n",
    "        numTriplets += numPairs\n",
    "    return numTriplets\n",
    "def pairSum(arr, startIndex, endIndex, num) :\n",
    "    numPair = 0\n",
    "    while startIndex < endIndex :\n",
    "        if arr[startIndex] + arr[endIndex] < num :\n",
    "            startIndex += 1\n",
    "        elif arr[startIndex] + arr[endIndex] > num :\n",
    "            endIndex -= 1\n",
    "        else :\n",
    "                elementAtStart = arr[startIndex]\n",
    "                elementAtEnd = arr[endIndex]\n",
    "                \n",
    "                if elementAtStart == elementAtEnd :\n",
    "                    totalElementsFromStartToEnd = (endIndex - startIndex) + 1\n",
    "                    numPair += (totalElementsFromStartToEnd * (totalElementsFromStartToEnd - 1) // 2)\n",
    "                    return numPair\n",
    "                tempStartIndex = startIndex + 1\n",
    "                tempEndIndex = endIndex - 1\n",
    "                while (tempStartIndex <= tempEndIndex) and (arr[tempStartIndex] == elementAtStart) :\n",
    "                    tempStartIndex += 1\n",
    "                while (tempEndIndex >= tempStartIndex) and (arr[tempEndIndex] == elementAtEnd) :\n",
    "                    tempEndIndex -= 1\n",
    "                totalElementsFromStart = (tempStartIndex - startIndex)\n",
    "                totalElementsFromEnd = (endIndex - tempEndIndex)\n",
    "                numPair += (totalElementsFromStart * totalElementsFromEnd)\n",
    "                startIndex = tempStartIndex\n",
    "                endIndex = tempEndIndex\n",
    "    return numPair\n",
    "            \n",
    "n = int(input())\n",
    "arr = list(map(int,input().split()))\n",
    "num = int(input())\n",
    "print(tripletSum(arr, n, num))"
   ]
  },
  {
   "cell_type": "code",
   "execution_count": null,
   "id": "eb40d0f9",
   "metadata": {},
   "outputs": [],
   "source": []
  }
 ],
 "metadata": {
  "kernelspec": {
   "display_name": "Python 3",
   "language": "python",
   "name": "python3"
  },
  "language_info": {
   "codemirror_mode": {
    "name": "ipython",
    "version": 3
   },
   "file_extension": ".py",
   "mimetype": "text/x-python",
   "name": "python",
   "nbconvert_exporter": "python",
   "pygments_lexer": "ipython3",
   "version": "3.8.8"
  }
 },
 "nbformat": 4,
 "nbformat_minor": 5
}
