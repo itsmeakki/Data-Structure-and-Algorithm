{
 "cells": [
  {
   "cell_type": "markdown",
   "id": "81992fc7",
   "metadata": {},
   "source": [
    "# Code : Stack Using LL"
   ]
  },
  {
   "cell_type": "markdown",
   "id": "5fd7e351",
   "metadata": {},
   "source": [
    "mplement a Stack Data Structure specifically to store integer data using a Singly Linked List.<br>\n",
    "The data members should be private.<br>\n",
    "You need to implement the following public functions :<br>\n",
    "1. Constructor:<br>\n",
    "It initialises the data members as required.<br>\n",
    "2. push(data) :<br>\n",
    "This function should take one argument of type integer. It pushes the element into the stack and returns nothing.<br>\n",
    "3. pop() :<br>\n",
    "It pops the element from the top of the stack and in turn, returns the element being popped or deleted. In case the stack is <br>empty, it returns -1.<br>\n",
    "4. top :<br>\n",
    "It returns the element being kept at the top of the stack. In case the stack is empty, it returns -1.<br>\n",
    "5. size() :<br>\n",
    "It returns the size of the stack at any given instance of time.<br>\n",
    "6. isEmpty() :<br>\n",
    "It returns a boolean value indicating whether the stack is empty or not.<br>\n",
    "Operations Performed on the Stack:<br>\n",
    "Query-1(Denoted by an integer 1): Pushes an integer data to the stack.<br>\n",
    "\n",
    "Query-2(Denoted by an integer 2): Pops the data kept at the top of the stack and returns it to the caller.<br>\n",
    "\n",
    "Query-3(Denoted by an integer 3): Fetches and returns the data being kept at the top of the stack but doesn't remove it, unlike <br>the pop function.<br>\n",
    "\n",
    "Query-4(Denoted by an integer 4): Returns the current size of the stack.<br>\n",
    "\n",
    "Query-5(Denoted by an integer 5): Returns a boolean value denoting whether the stack is empty or not.<br>"
   ]
  },
  {
   "cell_type": "code",
   "execution_count": 1,
   "id": "fcfa54c8",
   "metadata": {},
   "outputs": [
    {
     "name": "stdout",
     "output_type": "stream",
     "text": [
      "6\n",
      "1 13\n",
      "1 47\n",
      "4\n",
      "2\n",
      "5\n",
      "false\n",
      "2\n",
      "47\n",
      "3\n",
      "13\n"
     ]
    }
   ],
   "source": [
    "\n",
    "from sys import stdin\n",
    "\n",
    "#Following is the structure of the node class for a Singly Linked List\n",
    "class Node :\n",
    "\n",
    "    def __init__(self, data) :\n",
    "        self.data = data\n",
    "        self.next = None\n",
    "\n",
    "\n",
    "class Stack :\n",
    "    \n",
    "    def __init__(self):\n",
    "        self.__head = None\n",
    "        self.__count = 0\n",
    "\n",
    "    '''----------------- Public Functions of Stack -----------------'''\n",
    "\n",
    "    def getSize(self) :\n",
    "                \n",
    "        if self.isEmpty() is True:\n",
    "            return 0\n",
    "\n",
    "        return self.__count\n",
    "\n",
    "    def isEmpty(self) :\n",
    "        return self.__count == 0\n",
    "\n",
    "    def push(self, data) :\n",
    "        \n",
    "        newNode = Node(data)\n",
    "        newNode.next = self.__head\n",
    "        self.__head = newNode\n",
    "        self.__count = self.__count + 1\n",
    "\n",
    "\n",
    "    def pop(self) :\n",
    "        \n",
    "        if self.__count == 0 :\n",
    "            return -1\n",
    "                        \n",
    "        data = self.__head.data\n",
    "        self.__head = self.__head.next\n",
    "        self.__count = self.__count - 1\n",
    "        \n",
    "        return data\n",
    "\n",
    "    def top(self) :\n",
    "        \n",
    "        if self.__count == 0 :\n",
    "            return -1\n",
    "        \n",
    "        data = self.__head.data\n",
    "        return data\n",
    "\n",
    "#main\n",
    "q = int(input())\n",
    "\n",
    "stack = Stack()\n",
    "\n",
    "while q > 0 :\n",
    "\n",
    "    inputs = [int(element) for element in list(input().strip().split(\" \"))]\n",
    "    choice = int(inputs[0])\n",
    "\n",
    "    if choice == 1 :\n",
    "        data = int(inputs[1])\n",
    "        stack.push(data)\n",
    "\n",
    "    elif choice == 2 :\n",
    "        print(stack.pop())\n",
    "\n",
    "    elif choice == 3 :\n",
    "        print(stack.top())\n",
    "\n",
    "    elif choice == 4 : \n",
    "        print(stack.getSize())\n",
    "\n",
    "    else :\n",
    "        if stack.isEmpty() :\n",
    "            print(\"true\")\n",
    "        else :\n",
    "            print(\"false\")\n",
    "\n",
    "    q -= 1"
   ]
  },
  {
   "cell_type": "markdown",
   "id": "f3985add",
   "metadata": {},
   "source": [
    "# Balanced Paranthesis"
   ]
  },
  {
   "cell_type": "markdown",
   "id": "69791ef1",
   "metadata": {},
   "source": [
    "For a given a string expression containing only round brackets or parentheses, check if they are balanced or not. Brackets are <br>said to be balanced if the bracket which opens last, closes first.<br>\n",
    "Example:<br>\n",
    "Expression: (()())<br>\n",
    "Since all the opening brackets have their corresponding closing brackets, we say it is balanced and hence the output will be, <br>'true'.<br>\n",
    "You need to return a boolean value indicating whether the expression is balanced or not.<br>\n",
    "Note:<br>\n",
    "The input expression will not contain spaces in between.<br>"
   ]
  },
  {
   "cell_type": "code",
   "execution_count": 2,
   "id": "81625c1f",
   "metadata": {},
   "outputs": [
    {
     "name": "stderr",
     "output_type": "stream",
     "text": [
      "<>:13: SyntaxWarning: \"is\" with a literal. Did you mean \"==\"?\n",
      "<>:18: SyntaxWarning: \"is\" with a literal. Did you mean \"==\"?\n",
      "<>:23: SyntaxWarning: \"is\" with a literal. Did you mean \"==\"?\n",
      "<>:13: SyntaxWarning: \"is\" with a literal. Did you mean \"==\"?\n",
      "<>:18: SyntaxWarning: \"is\" with a literal. Did you mean \"==\"?\n",
      "<>:23: SyntaxWarning: \"is\" with a literal. Did you mean \"==\"?\n",
      "<ipython-input-2-ffac4e6402a0>:13: SyntaxWarning: \"is\" with a literal. Did you mean \"==\"?\n",
      "  elif char is ')' :\n",
      "<ipython-input-2-ffac4e6402a0>:18: SyntaxWarning: \"is\" with a literal. Did you mean \"==\"?\n",
      "  elif char is '}' :\n",
      "<ipython-input-2-ffac4e6402a0>:23: SyntaxWarning: \"is\" with a literal. Did you mean \"==\"?\n",
      "  elif char is ']' :\n"
     ]
    },
    {
     "name": "stdout",
     "output_type": "stream",
     "text": [
      "(()()())\n",
      "true\n"
     ]
    }
   ],
   "source": [
    "\n",
    "from sys import stdin\n",
    "\n",
    "\n",
    "def isBalanced(expression) :\n",
    "    \n",
    "    s = []\n",
    "    \n",
    "    for char in expression:\n",
    "        \n",
    "        if char in '({[' :\n",
    "            s.append(char)\n",
    "\n",
    "        elif char is ')' :\n",
    "            if (not s or s[-1] != '(') :\n",
    "                return False\n",
    "            s.pop()\n",
    "\n",
    "        elif char is '}' :\n",
    "            if (not s or s[-1] != '{') :\n",
    "                return False\n",
    "            s.pop()\n",
    "\n",
    "        elif char is ']' :\n",
    "            if (not s or s[-1] != '[') :\n",
    "                return False\n",
    "            s.pop()\n",
    "    if (not s):\n",
    "        return True\n",
    "    return False\n",
    "\n",
    "\n",
    "\n",
    "#main\n",
    "expression = input()\n",
    "\n",
    "if isBalanced(expression) :\n",
    "\tprint(\"true\")\n",
    "\n",
    "else :\n",
    "\tprint(\"false\")\n"
   ]
  },
  {
   "cell_type": "markdown",
   "id": "2b707079",
   "metadata": {},
   "source": [
    "# Reverse Stack"
   ]
  },
  {
   "cell_type": "markdown",
   "id": "700c09b7",
   "metadata": {},
   "source": [
    "You have been given two stacks that can store integers as the data. Out of the two given stacks, one is populated and the other one is empty. You are required to write a function that reverses the populated stack using the one which is empty.\n",
    "For Example:\n",
    "Alt txt"
   ]
  },
  {
   "attachments": {
    "reverse-of-a-stack-4732.png": {
     "image/png": "[encoded data removed]"
    }
   },
   "cell_type": "markdown",
   "id": "8542f6e0",
   "metadata": {},
   "source": [
    "![reverse-of-a-stack-4732.png](attachment:reverse-of-a-stack-4732.png)"
   ]
  },
  {
   "cell_type": "code",
   "execution_count": 3,
   "id": "025db2fa",
   "metadata": {},
   "outputs": [
    {
     "name": "stdout",
     "output_type": "stream",
     "text": [
      "6\n",
      "1 2 3 4 5 10\n",
      "1 2 3 4 5 10 "
     ]
    }
   ],
   "source": [
    "from sys import stdin, setrecursionlimit\n",
    "setrecursionlimit(10 ** 6)\n",
    "\n",
    "def reverseStack(inputStack, extraStack) :\n",
    "    \n",
    "    if (len(inputStack) <= 1) :\n",
    "        return\n",
    "    \n",
    "    while(len(inputStack) != 1):\n",
    "        ele = inputStack.pop()\n",
    "        extraStack.append(ele)\n",
    "        \n",
    "    lastele = inputStack.pop()\n",
    "    \n",
    "    while (len(extraStack) != 0):\n",
    "        ele = extraStack.pop()\n",
    "        inputStack.append(ele)\n",
    "        \n",
    "    reverseStack(inputStack, extraStack)\n",
    "    inputStack.append(lastele)\n",
    "    \n",
    "'''-------------- Utility Functions --------------'''\n",
    "#Takes a list as a stack and returns whether the stack is empty or not\n",
    "def isEmpty(stack) :\n",
    "    return len(stack) == 0\n",
    "\n",
    "#Taking input using fast I/o method\n",
    "def takeInput() :\n",
    "\tsize = int(input())\n",
    "\tinputStack = list()\n",
    "\n",
    "\tif size == 0 :\n",
    "\t\treturn inputStack\n",
    "\n",
    "\tvalues = list(int(element) for element in list(input().strip().split(\" \")))\n",
    "\tinputStack = values\n",
    "\n",
    "\treturn inputStack\n",
    "\n",
    "# Main\n",
    "inputStack = takeInput()\n",
    "emptyStack = list()\n",
    "\n",
    "reverseStack(inputStack, emptyStack)\n",
    "\n",
    "while not isEmpty(inputStack) :\n",
    "\tprint(inputStack.pop(), end = \" \")"
   ]
  },
  {
   "cell_type": "markdown",
   "id": "21bc303b",
   "metadata": {},
   "source": [
    "# Stock Span"
   ]
  },
  {
   "cell_type": "markdown",
   "id": "bd2d75b0",
   "metadata": {},
   "source": [
    "Afzal has been working with an organization called 'Money Traders' for the past few years. The organization is into the money<br> trading business. His manager assigned him a task. For a given array/list of stock's prices for N days, find the<br> stock's span for each day.<br>\n",
    "The span of the stock's price today is defined as the maximum number of consecutive days(starting from today and going<br> backwards) for which the price of the stock was less than today's price.<br>\n",
    "For example, if the price of a stock over a period of 7 days are [100, 80, 60, 70, 60, 75, 85], then the stock spans will be <br>[1, 1, 1, 2, 1, 4, 6].<br>\n",
    "Explanation:<br>\n",
    "On the sixth day when the price of the stock was 75, the span came out to be 4, because the last 4 prices(including the current<br> price of 75) were less than the current or the sixth day's price.<br>\n",
    "\n",
    "Similarly, we can deduce the remaining results.<br>\n",
    "Afzal has to return an array/list of spans corresponding to each day's stock's price. Help him to achieve the task.<br>"
   ]
  },
  {
   "cell_type": "code",
   "execution_count": 4,
   "id": "3594c007",
   "metadata": {},
   "outputs": [
    {
     "name": "stdout",
     "output_type": "stream",
     "text": [
      "8\n",
      "60 70 80 100 90 75 80 120\n",
      "1 2 3 4 1 1 2 8 \n"
     ]
    }
   ],
   "source": [
    "\n",
    "from sys import stdin\n",
    "\n",
    "def stockSpan(price, n) :\n",
    "\n",
    "    arr =  [1] * n\n",
    "    \n",
    "    for i in range(1,n):\n",
    "        j = i-1\n",
    "        count = 1\n",
    "        while j >= 0 :\n",
    "            if price[i] > price[j]:\n",
    "                count = count + 1\n",
    "                arr[i] = count\n",
    "                j = j - 1\n",
    "            elif price[i] <= price[j]:\n",
    "                break\n",
    "\n",
    "    return arr\n",
    "\n",
    "'''-------------- Utility Functions --------------'''\n",
    "\n",
    "\n",
    "\n",
    "\n",
    "def printList(arr) :\n",
    "\tfor i in range(len(arr)) :\n",
    "\t\tprint(arr[i], end = \" \")\n",
    "\n",
    "\tprint()\n",
    "\n",
    "\n",
    "def takeInput():\n",
    "\tsize = int(input())\n",
    "\n",
    "\tif size == 0 :\n",
    "\t\treturn list(), 0\n",
    "\n",
    "\tprice = list(int(element) for element in list(input().strip().split(\" \")))\n",
    "\n",
    "\treturn price, size\n",
    "\n",
    "\n",
    "#main\n",
    "price, n = takeInput()\n",
    "\n",
    "output = stockSpan(price, n)\n",
    "printList(output)\n"
   ]
  },
  {
   "cell_type": "markdown",
   "id": "07167014",
   "metadata": {},
   "source": [
    "# Minimum bracket Reversal"
   ]
  },
  {
   "cell_type": "markdown",
   "id": "9b0f7c60",
   "metadata": {},
   "source": [
    "For a given expression in the form of a string, find the minimum number of brackets that can be reversed in order to make the<br> expression balanced. The expression will only contain curly brackets.<br>\n",
    "If the expression can't be balanced, return -1.<br>\n",
    "Example:<br>\n",
    "Expression: {{{{<br>\n",
    "If we reverse the second and the fourth opening brackets, the whole expression will get balanced. Since we have to reverse two<br> brackets to make the expression balanced, the expected output will be 2.<br>\n",
    "\n",
    "Expression: {{{<br>\n",
    "In this example, even if we reverse the last opening bracket, we would be left with the first opening bracket and hence will<br> not be able to make the expression balanced and the output will be -1.<br>"
   ]
  },
  {
   "cell_type": "code",
   "execution_count": 5,
   "id": "d8da1ac5",
   "metadata": {},
   "outputs": [
    {
     "name": "stdout",
     "output_type": "stream",
     "text": [
      "{{{{}}\n",
      "1\n"
     ]
    }
   ],
   "source": [
    "\n",
    "from sys import stdin\n",
    "\n",
    "def countBracketReversals(string) :\n",
    "    if(len(string) == 0):\n",
    "        return 0\n",
    "    if(len(string)%2 != 0):\n",
    "        return -1\n",
    "    s = []\n",
    "    for char in string:\n",
    "        if char == '{':\n",
    "            s.append(char)\n",
    "        else:\n",
    "            if(len(s) > 0 and s[-1] == '{'):\n",
    "                s.pop()\n",
    "            else:\n",
    "                s.append(char)\n",
    "    count = 0\n",
    "    while(len(s) != 0):\n",
    "        c1 = s.pop()\n",
    "        c2 = s.pop()\n",
    "        if c1!=c2:\n",
    "            count+=2\n",
    "        else:\n",
    "            count+=1\n",
    "    return count\n",
    "#main\n",
    "print(countBracketReversals(input()))\n"
   ]
  },
  {
   "cell_type": "code",
   "execution_count": null,
   "id": "54304642",
   "metadata": {},
   "outputs": [],
   "source": []
  }
 ],
 "metadata": {
  "kernelspec": {
   "display_name": "Python 3",
   "language": "python",
   "name": "python3"
  },
  "language_info": {
   "codemirror_mode": {
    "name": "ipython",
    "version": 3
   },
   "file_extension": ".py",
   "mimetype": "text/x-python",
   "name": "python",
   "nbconvert_exporter": "python",
   "pygments_lexer": "ipython3",
   "version": "3.8.8"
  }
 },
 "nbformat": 4,
 "nbformat_minor": 5
}
