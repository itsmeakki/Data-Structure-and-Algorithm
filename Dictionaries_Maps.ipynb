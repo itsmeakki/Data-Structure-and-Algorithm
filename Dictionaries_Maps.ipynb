{
 "cells": [
  {
   "cell_type": "markdown",
   "id": "ff96ebcd",
   "metadata": {},
   "source": [
    "# Maximum Frequency"
   ]
  },
  {
   "cell_type": "markdown",
   "id": "68b4f61d",
   "metadata": {},
   "source": [
    "You are given an array of integers that contain numbers in random order. Write a program to find and return the number which<br> occurs the maximum times in the given input.<br>\n",
    "If two or more elements contend for the maximum frequency, return the element which occurs in the array first.<br>"
   ]
  },
  {
   "cell_type": "code",
   "execution_count": 1,
   "id": "21ab1855",
   "metadata": {},
   "outputs": [
    {
     "name": "stdout",
     "output_type": "stream",
     "text": [
      "13\n",
      "2 12 2 11 12 2 1 2 2 11 12 2 6 \n",
      "2\n"
     ]
    }
   ],
   "source": [
    "from sys import stdin\n",
    "def maxfreq(arr):\n",
    "    d = dict()\n",
    "    for i in arr:\n",
    "        if i in d:\n",
    "            d[i] = d.get(i, 0) + 1\n",
    "        else:\n",
    "            d[i] = 1\n",
    "    max = -1\n",
    "    for x in arr:\n",
    "        if d[x] > max:\n",
    "            max = d[x]\n",
    "            num = x        \n",
    "            \n",
    "    return num\n",
    "    \n",
    "def takeInput():\n",
    "    #To take fast I/O\n",
    "    n=int(input())\n",
    "    if n==0:\n",
    "        return list(),0\n",
    "    arr=list(int(element) for element in list(input().strip().split(\" \")))\n",
    "    return arr,n\n",
    "\n",
    "arr,n=takeInput()\n",
    "print(maxfreq(arr))"
   ]
  },
  {
   "cell_type": "markdown",
   "id": "efdb0b66",
   "metadata": {},
   "source": [
    "# Pair Sum To 0"
   ]
  },
  {
   "cell_type": "markdown",
   "id": "1cdd8741",
   "metadata": {},
   "source": [
    "Given a random integer array A of size N. Find and print the count of pair of elements in the array which sum up to 0.<br>\n",
    "Note: Array A can contain duplicate elements as well.<br>"
   ]
  },
  {
   "cell_type": "code",
   "execution_count": 2,
   "id": "fda07c54",
   "metadata": {},
   "outputs": [
    {
     "name": "stdout",
     "output_type": "stream",
     "text": [
      "5\n",
      "2 1 -2 2 3\n",
      "2\n"
     ]
    }
   ],
   "source": [
    "from sys import stdin,setrecursionlimit\n",
    "\n",
    "setrecursionlimit(10**8)\n",
    "def pairSum0(l,n):\n",
    "    d = {}\n",
    "    \n",
    "    for num in l:\n",
    "        d[num] = d.get(num,0) + 1\n",
    "        \n",
    "    count = 0\n",
    "    for i in l:\n",
    "        if -i in d and i != 0:\n",
    "            count+=d[-i]\n",
    "    count = count//2\n",
    "    if 0 in d:\n",
    "        a = d[0]\n",
    "        count+=(a*(a-1)/2)\n",
    "    return int(count)\n",
    "\n",
    "def takeInput():\n",
    "    #To take fast I/O\n",
    "    n=int(input())\n",
    "    if n==0:\n",
    "        return list(),0\n",
    "    arr=list(int(element) for element in list(input().strip().split(\" \")))\n",
    "    return arr,n\n",
    "\n",
    "arr,n=takeInput()\n",
    "print(pairSum0(arr,n))"
   ]
  },
  {
   "cell_type": "markdown",
   "id": "e2fca669",
   "metadata": {},
   "source": [
    "# Extract Unique characters"
   ]
  },
  {
   "cell_type": "markdown",
   "id": "de417f69",
   "metadata": {},
   "source": [
    "Given a string S, you need to remove all the duplicates. That means, the output string should contain each character only once.<br> The respective order of characters should remain same, as in the input string.<br>"
   ]
  },
  {
   "cell_type": "code",
   "execution_count": 3,
   "id": "6cb116aa",
   "metadata": {},
   "outputs": [
    {
     "name": "stdout",
     "output_type": "stream",
     "text": [
      "abcde\n",
      "abcde\n"
     ]
    }
   ],
   "source": [
    "def uniqueChar(s): \n",
    "\n",
    "    new_string = \"\"\n",
    "    for i in range(len(s)):\n",
    "        if s[i] not in new_string:\n",
    "            new_string += s[i]\n",
    "        \n",
    "    return new_string # Main \n",
    "s=input() \n",
    "print(uniqueChar(s))"
   ]
  },
  {
   "cell_type": "markdown",
   "id": "2467da15",
   "metadata": {},
   "source": [
    "# Longest Consecutive Sequence"
   ]
  },
  {
   "cell_type": "markdown",
   "id": "2cbec0f0",
   "metadata": {},
   "source": [
    "You are given an array of unique integers that contain numbers in random order. You have to find the longest possible sequence<br> of consecutive numbers using the numbers from given array.<br>\n",
    "You need to return the output array which contains starting and ending element. If the length of the longest possible sequence <br>is one, then the output array must contain only single element.<br>\n",
    "Note:<br>\n",
    "1. Best solution takes O(n) time.<br>\n",
    "2. If two sequences are of equal length, then return the sequence starting with the number whose occurrence is earlier in the <br>array.<br>"
   ]
  },
  {
   "cell_type": "code",
   "execution_count": 4,
   "id": "44b39096",
   "metadata": {},
   "outputs": [
    {
     "name": "stdout",
     "output_type": "stream",
     "text": [
      "13\n",
      "2 12 9 16 10 5 3 20 25 11 1 8 6 \n",
      "8 12\n"
     ]
    }
   ],
   "source": [
    "def longestConsecutiveSubsequence(l):\n",
    "    m = {l[i]:i for i in range(len(l)-1, -1, -1)}\n",
    "    visited = {}\n",
    "    start, end = l[0], l[0]\n",
    "    startM, endM = start, end\n",
    "    for num in l:\n",
    "        if num not in visited:\n",
    "            visited[num] = True\n",
    "            start, end = num, num\n",
    "            while start-1 in m:\n",
    "                start -= 1\n",
    "                visited[start] = True\n",
    "            while end+1 in m:\n",
    "                end += 1\n",
    "                visited[end] = True\n",
    "            if (endM-startM+1 < end-start+1) or ((endM-startM+1 == end-start+1)\n",
    "                    and (m[start] < m[startM])):\n",
    "                startM, endM = start, end\n",
    "    return startM, endM\n",
    "\n",
    "    \n",
    "    \n",
    "    \n",
    "\n",
    "n=int(input())\n",
    "l=list(int(i) for i in input().strip().split(' '))\n",
    "start, end = longestConsecutiveSubsequence(l)\n",
    "print(start, end)\n"
   ]
  },
  {
   "cell_type": "markdown",
   "id": "04f83a54",
   "metadata": {},
   "source": [
    "# Pairs with difference K"
   ]
  },
  {
   "cell_type": "markdown",
   "id": "4a957ea1",
   "metadata": {},
   "source": [
    "You are given with an array of integers and an integer K. You have to find and print the count of all such pairs which have<br> difference K.<br>\n",
    "Note: Take absolute difference between the elements of the array.<br>"
   ]
  },
  {
   "cell_type": "code",
   "execution_count": 5,
   "id": "7c7069b5",
   "metadata": {},
   "outputs": [
    {
     "name": "stdout",
     "output_type": "stream",
     "text": [
      "4\n",
      "5 1 2 4\n",
      "3\n",
      "2\n"
     ]
    }
   ],
   "source": [
    "def printPairDiffK(l, k):\n",
    "    d = {}\n",
    "    count = 0\n",
    "    for w in l:\n",
    "        d[w] = d.get(w,0) + 1\n",
    "\n",
    "    for i in range(len(l)):\n",
    "        if (l[i] - k) in d:\n",
    "            if [l[i] - k] == [l[i]]:\n",
    "                count = count + d[l[i]]*(d[l[i]]-1)//2\n",
    "                d[l[i] - k] = 0\n",
    "            else:\n",
    "                count = count + d[l[i]] * d[l[i] - k]\n",
    "                d[l[i] - k] = 0\n",
    "                \n",
    "    return count    \n",
    "# Main\n",
    "n=int(input())\n",
    "l=list(int(i) for i in input().strip().split(' '))\n",
    "k=int(input())\n",
    "print(printPairDiffK(l, k))"
   ]
  },
  {
   "cell_type": "markdown",
   "id": "2463d2d7",
   "metadata": {},
   "source": [
    "# Longest subset zero sum"
   ]
  },
  {
   "cell_type": "markdown",
   "id": "6ef38e56",
   "metadata": {},
   "source": [
    "Given an array consisting of positive and negative integers, find the length of the longest subarray whose sum is zero."
   ]
  },
  {
   "cell_type": "code",
   "execution_count": 6,
   "id": "35354c69",
   "metadata": {},
   "outputs": [
    {
     "name": "stderr",
     "output_type": "stream",
     "text": [
      "<>:9: SyntaxWarning: \"is\" with a literal. Did you mean \"==\"?\n",
      "<>:9: SyntaxWarning: \"is\" with a literal. Did you mean \"==\"?\n",
      "<>:12: SyntaxWarning: \"is\" with a literal. Did you mean \"==\"?\n",
      "<>:9: SyntaxWarning: \"is\" with a literal. Did you mean \"==\"?\n",
      "<>:9: SyntaxWarning: \"is\" with a literal. Did you mean \"==\"?\n",
      "<>:12: SyntaxWarning: \"is\" with a literal. Did you mean \"==\"?\n",
      "<ipython-input-6-bfecb8adeb89>:9: SyntaxWarning: \"is\" with a literal. Did you mean \"==\"?\n",
      "  if arr[i] is 0 and max_len is 0:\n",
      "<ipython-input-6-bfecb8adeb89>:9: SyntaxWarning: \"is\" with a literal. Did you mean \"==\"?\n",
      "  if arr[i] is 0 and max_len is 0:\n",
      "<ipython-input-6-bfecb8adeb89>:12: SyntaxWarning: \"is\" with a literal. Did you mean \"==\"?\n",
      "  if curr_sum is 0:\n"
     ]
    },
    {
     "name": "stdout",
     "output_type": "stream",
     "text": [
      "10\n",
      "95 -97 -387 -435 -5 -70 897 127 23 284\n",
      "5\n"
     ]
    }
   ],
   "source": [
    "def maxLen(arr): \n",
    "\n",
    "    hash_map = {} \n",
    "    max_len = 0\n",
    "    curr_sum = 0\n",
    "    for i in range(len(arr)): \n",
    "        curr_sum += arr[i] \n",
    "  \n",
    "        if arr[i] is 0 and max_len is 0: \n",
    "            max_len = 1\n",
    "  \n",
    "        if curr_sum is 0: \n",
    "            max_len = i + 1\n",
    "        if curr_sum in hash_map: \n",
    "            max_len = max(max_len, i - hash_map[curr_sum] ) \n",
    "        else: \n",
    "            hash_map[curr_sum] = i \n",
    "  \n",
    "    return max_len \n",
    "\n",
    "\n",
    "n=int(input())\n",
    "l=list(int(i) for i in input().strip().split(' '))\n",
    "finalLen= maxLen(l)\n",
    "print(finalLen)"
   ]
  },
  {
   "cell_type": "code",
   "execution_count": null,
   "id": "abc0b279",
   "metadata": {},
   "outputs": [],
   "source": []
  }
 ],
 "metadata": {
  "kernelspec": {
   "display_name": "Python 3",
   "language": "python",
   "name": "python3"
  },
  "language_info": {
   "codemirror_mode": {
    "name": "ipython",
    "version": 3
   },
   "file_extension": ".py",
   "mimetype": "text/x-python",
   "name": "python",
   "nbconvert_exporter": "python",
   "pygments_lexer": "ipython3",
   "version": "3.8.8"
  }
 },
 "nbformat": 4,
 "nbformat_minor": 5
}
