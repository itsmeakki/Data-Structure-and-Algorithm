{
 "cells": [
  {
   "cell_type": "markdown",
   "id": "668057d0",
   "metadata": {},
   "source": [
    "# Search In BST"
   ]
  },
  {
   "cell_type": "markdown",
   "id": "94835ebd",
   "metadata": {},
   "source": [
    "Given a BST and an integer k. Find if the integer k is present in given BST or not. You have to return true, if node with data <br>k is present, return false otherwise.<br>\n",
    "Note: Assume that BST contains all unique elements.<br>"
   ]
  },
  {
   "cell_type": "code",
   "execution_count": 2,
   "id": "fd094a1f",
   "metadata": {},
   "outputs": [
    {
     "name": "stdout",
     "output_type": "stream",
     "text": [
      "8 5 10 2 6 -1 -1 -1 -1 -1 7 -1 -1\n",
      "2\n",
      "true\n"
     ]
    }
   ],
   "source": [
    "import queue\n",
    "class BinaryTreeNode:\n",
    "    def __init__(self, data):\n",
    "        self.data = data\n",
    "        self.left = None\n",
    "        self.right = None\n",
    "\n",
    "    #Solution\n",
    "def searchInBST(root, k):\n",
    "    if root is None:\n",
    "        return False\n",
    "    if root.data == k:\n",
    "        return True\n",
    "    elif root.data > k:\n",
    "        return searchInBST(root.left,k)\n",
    "    else:\n",
    "        return searchInBST(root.right,k)\n",
    "    \n",
    "def buildLevelTree(levelorder):\n",
    "    index = 0\n",
    "    length = len(levelorder)\n",
    "    if length<=0 or levelorder[0]==-1:\n",
    "        return None\n",
    "    root = BinaryTreeNode(levelorder[index])\n",
    "    index += 1\n",
    "    q = queue.Queue()\n",
    "    q.put(root)\n",
    "    while not q.empty():\n",
    "        currentNode = q.get()\n",
    "        leftChild = levelorder[index]\n",
    "        index += 1\n",
    "        if leftChild != -1:\n",
    "            leftNode = BinaryTreeNode(leftChild)\n",
    "            currentNode.left =leftNode\n",
    "            q.put(leftNode)\n",
    "        rightChild = levelorder[index]\n",
    "        index += 1\n",
    "        if rightChild != -1:\n",
    "            rightNode = BinaryTreeNode(rightChild)\n",
    "            currentNode.right =rightNode\n",
    "            q.put(rightNode)\n",
    "    return root\n",
    "\n",
    "# Main\n",
    "levelOrder = list(int(element) for element in list(input().strip().split(\" \")))\n",
    "root = buildLevelTree(levelOrder)\n",
    "k=int(input())\n",
    "ans = searchInBST(root, k)\n",
    "if ans:\n",
    "    print(\"true\")\n",
    "else:\n",
    "    print(\"false\")"
   ]
  },
  {
   "cell_type": "markdown",
   "id": "f922b666",
   "metadata": {},
   "source": [
    "# Construct BST"
   ]
  },
  {
   "cell_type": "markdown",
   "id": "412c77c7",
   "metadata": {},
   "source": [
    "Given a sorted integer array A of size n, which contains all unique elements. You need to construct a balanced BST from this<br> input array. Return the root of constructed BST.<br>\n",
    "Note: If array size is even, take first mid as root.<br>"
   ]
  },
  {
   "cell_type": "code",
   "execution_count": 3,
   "id": "4676c9ef",
   "metadata": {},
   "outputs": [
    {
     "name": "stdout",
     "output_type": "stream",
     "text": [
      "7\n",
      "1 2 3 4 5 6 7\n",
      "4 2 1 3 6 5 7 "
     ]
    }
   ],
   "source": [
    "import queue\n",
    "class BinaryTreeNode:\n",
    "    def __init__(self, data):\n",
    "        self.data = data\n",
    "        self.left = None\n",
    "        self.right = None\n",
    "\n",
    "def constructBST(lst):\n",
    "    if not lst:\n",
    "        return None\n",
    "    \n",
    "    mid = (len(lst)-1)//2\n",
    "    root = BinaryTreeNode(lst[mid])\n",
    "    root.left = constructBST(lst[:mid])\n",
    "    root.right = constructBST(lst[mid+1:])\n",
    "    \n",
    "    return root    \n",
    "    \n",
    "def preOrder(root):\n",
    "    # Given a binary tree, print the preorder traversal of given tree. Pre-order\n",
    "    # traversal is: Root LeftChild RightChild\n",
    "    if root==None:\n",
    "        return\n",
    "    print(root.data, end=' ')\n",
    "    preOrder(root.left)\n",
    "    preOrder(root.right)\n",
    "\n",
    "# Main\n",
    "n=int(input())\n",
    "if(n>0):\n",
    "    lst=list(int(element) for element in list(input().strip().split(\" \")))\n",
    "else:\n",
    "    lst=[]\n",
    "root=constructBST(lst)\n",
    "preOrder(root)"
   ]
  },
  {
   "cell_type": "markdown",
   "id": "ef0d4220",
   "metadata": {},
   "source": [
    "# Find path in BST"
   ]
  },
  {
   "cell_type": "markdown",
   "id": "8cf7133e",
   "metadata": {},
   "source": [
    "Given a BST and an integer k. Find and return the path from the node with data k and root (if a node with data k is present in<br> given BST) in a list. Return empty list otherwise.<br>\n",
    "Note: Assume that BST contains all unique elements.<br>"
   ]
  },
  {
   "cell_type": "code",
   "execution_count": 4,
   "id": "203ffb19",
   "metadata": {},
   "outputs": [
    {
     "name": "stdout",
     "output_type": "stream",
     "text": [
      "8 5 10 2 6 -1 -1 -1 -1 -1 7 -1 -1\n",
      "2\n",
      "2 5 8 "
     ]
    }
   ],
   "source": [
    "import queue\n",
    "class BinaryTreeNode:\n",
    "    def __init__(self, data):\n",
    "        self.data = data\n",
    "        self.left = None\n",
    "        self.right = None\n",
    "\n",
    "def findPathBST(root,data):\n",
    "    if root is None:\n",
    "        return None\n",
    "    \n",
    "    if root.data == data:\n",
    "        l = list()\n",
    "        l.append(root.data)\n",
    "        return l\n",
    "    \n",
    "    leftoutput = findPathBST(root.left,data)\n",
    "    \n",
    "    if leftoutput != None:\n",
    "        leftoutput.append(root.data)\n",
    "        return leftoutput\n",
    "    \n",
    "    rightoutput = findPathBST(root.right,data)\n",
    "    \n",
    "    if rightoutput != None:\n",
    "        rightoutput.append(root.data)\n",
    "        return rightoutput\n",
    "    else:\n",
    "        return None\n",
    "\n",
    "\n",
    "def buildLevelTree(levelorder):\n",
    "    index = 0\n",
    "    length = len(levelorder)\n",
    "    if length<=0 or levelorder[0]==-1:\n",
    "        return None\n",
    "    root = BinaryTreeNode(levelorder[index])\n",
    "    index += 1\n",
    "    q = queue.Queue()\n",
    "    q.put(root)\n",
    "    while not q.empty():\n",
    "        currentNode = q.get()\n",
    "        leftChild = levelorder[index]\n",
    "        index += 1\n",
    "        if leftChild != -1:\n",
    "            leftNode = BinaryTreeNode(leftChild)\n",
    "            currentNode.left =leftNode\n",
    "            q.put(leftNode)\n",
    "        rightChild = levelorder[index]\n",
    "        index += 1\n",
    "        if rightChild != -1:\n",
    "            rightNode = BinaryTreeNode(rightChild)\n",
    "            currentNode.right =rightNode\n",
    "            q.put(rightNode)\n",
    "    return root\n",
    "\n",
    "# Main\n",
    "levelOrder = [int(i) for i in input().strip().split()]\n",
    "root = buildLevelTree(levelOrder)\n",
    "data = int(input())\n",
    "path = findPathBST(root,data)\n",
    "if path is not None:\n",
    "    for ele in path:\n",
    "        print(ele,end=' ')"
   ]
  },
  {
   "cell_type": "code",
   "execution_count": null,
   "id": "45f9d2ac",
   "metadata": {},
   "outputs": [],
   "source": []
  }
 ],
 "metadata": {
  "kernelspec": {
   "display_name": "Python 3",
   "language": "python",
   "name": "python3"
  },
  "language_info": {
   "codemirror_mode": {
    "name": "ipython",
    "version": 3
   },
   "file_extension": ".py",
   "mimetype": "text/x-python",
   "name": "python",
   "nbconvert_exporter": "python",
   "pygments_lexer": "ipython3",
   "version": "3.8.8"
  }
 },
 "nbformat": 4,
 "nbformat_minor": 5
}
